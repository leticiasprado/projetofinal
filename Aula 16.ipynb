{
 "cells": [
  {
   "cell_type": "code",
   "execution_count": 1,
   "metadata": {},
   "outputs": [
    {
     "name": "stdout",
     "output_type": "stream",
     "text": [
      "Requirement already satisfied: asttokens==2.4.1 in c:\\users\\letícia prado\\desktop\\projetos\\aulas\\projeto\\projetofinal\\lib\\site-packages (from -r requirements.txt (line 1)) (2.4.1)\n",
      "Requirement already satisfied: certifi==2024.2.2 in c:\\users\\letícia prado\\desktop\\projetos\\aulas\\projeto\\projetofinal\\lib\\site-packages (from -r requirements.txt (line 2)) (2024.2.2)\n",
      "Requirement already satisfied: charset-normalizer==3.3.2 in c:\\users\\letícia prado\\desktop\\projetos\\aulas\\projeto\\projetofinal\\lib\\site-packages (from -r requirements.txt (line 3)) (3.3.2)\n",
      "Requirement already satisfied: colorama==0.4.6 in c:\\users\\letícia prado\\desktop\\projetos\\aulas\\projeto\\projetofinal\\lib\\site-packages (from -r requirements.txt (line 4)) (0.4.6)\n",
      "Requirement already satisfied: comm==0.2.1 in c:\\users\\letícia prado\\desktop\\projetos\\aulas\\projeto\\projetofinal\\lib\\site-packages (from -r requirements.txt (line 5)) (0.2.1)\n",
      "Requirement already satisfied: contourpy==1.2.0 in c:\\users\\letícia prado\\desktop\\projetos\\aulas\\projeto\\projetofinal\\lib\\site-packages (from -r requirements.txt (line 6)) (1.2.0)\n",
      "Requirement already satisfied: cycler==0.12.1 in c:\\users\\letícia prado\\desktop\\projetos\\aulas\\projeto\\projetofinal\\lib\\site-packages (from -r requirements.txt (line 7)) (0.12.1)\n",
      "Requirement already satisfied: debugpy==1.8.1 in c:\\users\\letícia prado\\desktop\\projetos\\aulas\\projeto\\projetofinal\\lib\\site-packages (from -r requirements.txt (line 8)) (1.8.1)\n",
      "Requirement already satisfied: decorator==5.1.1 in c:\\users\\letícia prado\\desktop\\projetos\\aulas\\projeto\\projetofinal\\lib\\site-packages (from -r requirements.txt (line 9)) (5.1.1)\n",
      "Requirement already satisfied: et-xmlfile==1.1.0 in c:\\users\\letícia prado\\desktop\\projetos\\aulas\\projeto\\projetofinal\\lib\\site-packages (from -r requirements.txt (line 10)) (1.1.0)\n",
      "Requirement already satisfied: executing==2.0.1 in c:\\users\\letícia prado\\desktop\\projetos\\aulas\\projeto\\projetofinal\\lib\\site-packages (from -r requirements.txt (line 11)) (2.0.1)\n",
      "Requirement already satisfied: fonttools==4.49.0 in c:\\users\\letícia prado\\desktop\\projetos\\aulas\\projeto\\projetofinal\\lib\\site-packages (from -r requirements.txt (line 12)) (4.49.0)\n",
      "Requirement already satisfied: idna==3.6 in c:\\users\\letícia prado\\desktop\\projetos\\aulas\\projeto\\projetofinal\\lib\\site-packages (from -r requirements.txt (line 13)) (3.6)\n",
      "Requirement already satisfied: ipykernel==6.29.3 in c:\\users\\letícia prado\\desktop\\projetos\\aulas\\projeto\\projetofinal\\lib\\site-packages (from -r requirements.txt (line 14)) (6.29.3)\n",
      "Requirement already satisfied: ipython==8.22.1 in c:\\users\\letícia prado\\desktop\\projetos\\aulas\\projeto\\projetofinal\\lib\\site-packages (from -r requirements.txt (line 15)) (8.22.1)\n",
      "Requirement already satisfied: jedi==0.19.1 in c:\\users\\letícia prado\\desktop\\projetos\\aulas\\projeto\\projetofinal\\lib\\site-packages (from -r requirements.txt (line 16)) (0.19.1)\n",
      "Requirement already satisfied: jupyter_client==8.6.0 in c:\\users\\letícia prado\\desktop\\projetos\\aulas\\projeto\\projetofinal\\lib\\site-packages (from -r requirements.txt (line 17)) (8.6.0)\n",
      "Requirement already satisfied: jupyter_core==5.7.1 in c:\\users\\letícia prado\\desktop\\projetos\\aulas\\projeto\\projetofinal\\lib\\site-packages (from -r requirements.txt (line 18)) (5.7.1)\n",
      "Requirement already satisfied: kiwisolver==1.4.5 in c:\\users\\letícia prado\\desktop\\projetos\\aulas\\projeto\\projetofinal\\lib\\site-packages (from -r requirements.txt (line 19)) (1.4.5)\n",
      "Requirement already satisfied: matplotlib==3.8.3 in c:\\users\\letícia prado\\desktop\\projetos\\aulas\\projeto\\projetofinal\\lib\\site-packages (from -r requirements.txt (line 20)) (3.8.3)\n",
      "Requirement already satisfied: matplotlib-inline==0.1.6 in c:\\users\\letícia prado\\desktop\\projetos\\aulas\\projeto\\projetofinal\\lib\\site-packages (from -r requirements.txt (line 21)) (0.1.6)\n",
      "Requirement already satisfied: nest-asyncio==1.6.0 in c:\\users\\letícia prado\\desktop\\projetos\\aulas\\projeto\\projetofinal\\lib\\site-packages (from -r requirements.txt (line 22)) (1.6.0)\n",
      "Requirement already satisfied: numpy==1.26.4 in c:\\users\\letícia prado\\desktop\\projetos\\aulas\\projeto\\projetofinal\\lib\\site-packages (from -r requirements.txt (line 23)) (1.26.4)\n",
      "Requirement already satisfied: openpyxl==3.1.2 in c:\\users\\letícia prado\\desktop\\projetos\\aulas\\projeto\\projetofinal\\lib\\site-packages (from -r requirements.txt (line 24)) (3.1.2)\n",
      "Requirement already satisfied: packaging==23.2 in c:\\users\\letícia prado\\desktop\\projetos\\aulas\\projeto\\projetofinal\\lib\\site-packages (from -r requirements.txt (line 25)) (23.2)\n",
      "Requirement already satisfied: pandas==2.2.1 in c:\\users\\letícia prado\\desktop\\projetos\\aulas\\projeto\\projetofinal\\lib\\site-packages (from -r requirements.txt (line 26)) (2.2.1)\n",
      "Requirement already satisfied: parso==0.8.3 in c:\\users\\letícia prado\\desktop\\projetos\\aulas\\projeto\\projetofinal\\lib\\site-packages (from -r requirements.txt (line 27)) (0.8.3)\n",
      "Requirement already satisfied: pillow==10.2.0 in c:\\users\\letícia prado\\desktop\\projetos\\aulas\\projeto\\projetofinal\\lib\\site-packages (from -r requirements.txt (line 28)) (10.2.0)\n",
      "Requirement already satisfied: platformdirs==4.2.0 in c:\\users\\letícia prado\\desktop\\projetos\\aulas\\projeto\\projetofinal\\lib\\site-packages (from -r requirements.txt (line 29)) (4.2.0)\n",
      "Requirement already satisfied: plyer==2.1.0 in c:\\users\\letícia prado\\desktop\\projetos\\aulas\\projeto\\projetofinal\\lib\\site-packages (from -r requirements.txt (line 30)) (2.1.0)\n",
      "Requirement already satisfied: prompt-toolkit==3.0.43 in c:\\users\\letícia prado\\desktop\\projetos\\aulas\\projeto\\projetofinal\\lib\\site-packages (from -r requirements.txt (line 31)) (3.0.43)\n",
      "Requirement already satisfied: psutil==5.9.8 in c:\\users\\letícia prado\\desktop\\projetos\\aulas\\projeto\\projetofinal\\lib\\site-packages (from -r requirements.txt (line 32)) (5.9.8)\n",
      "Requirement already satisfied: pure-eval==0.2.2 in c:\\users\\letícia prado\\desktop\\projetos\\aulas\\projeto\\projetofinal\\lib\\site-packages (from -r requirements.txt (line 33)) (0.2.2)\n",
      "Requirement already satisfied: Pygments==2.17.2 in c:\\users\\letícia prado\\desktop\\projetos\\aulas\\projeto\\projetofinal\\lib\\site-packages (from -r requirements.txt (line 34)) (2.17.2)\n",
      "Requirement already satisfied: pyparsing==3.1.2 in c:\\users\\letícia prado\\desktop\\projetos\\aulas\\projeto\\projetofinal\\lib\\site-packages (from -r requirements.txt (line 35)) (3.1.2)\n",
      "Requirement already satisfied: python-dateutil==2.8.2 in c:\\users\\letícia prado\\desktop\\projetos\\aulas\\projeto\\projetofinal\\lib\\site-packages (from -r requirements.txt (line 36)) (2.8.2)\n",
      "Requirement already satisfied: pytz==2024.1 in c:\\users\\letícia prado\\desktop\\projetos\\aulas\\projeto\\projetofinal\\lib\\site-packages (from -r requirements.txt (line 37)) (2024.1)\n",
      "Requirement already satisfied: pywin32==306 in c:\\users\\letícia prado\\desktop\\projetos\\aulas\\projeto\\projetofinal\\lib\\site-packages (from -r requirements.txt (line 38)) (306)\n",
      "Requirement already satisfied: pyzmq==25.1.2 in c:\\users\\letícia prado\\desktop\\projetos\\aulas\\projeto\\projetofinal\\lib\\site-packages (from -r requirements.txt (line 39)) (25.1.2)\n",
      "Requirement already satisfied: requests==2.31.0 in c:\\users\\letícia prado\\desktop\\projetos\\aulas\\projeto\\projetofinal\\lib\\site-packages (from -r requirements.txt (line 40)) (2.31.0)\n",
      "Requirement already satisfied: schedule==1.2.1 in c:\\users\\letícia prado\\desktop\\projetos\\aulas\\projeto\\projetofinal\\lib\\site-packages (from -r requirements.txt (line 41)) (1.2.1)\n",
      "Requirement already satisfied: seaborn==0.13.2 in c:\\users\\letícia prado\\desktop\\projetos\\aulas\\projeto\\projetofinal\\lib\\site-packages (from -r requirements.txt (line 42)) (0.13.2)\n",
      "Requirement already satisfied: six==1.16.0 in c:\\users\\letícia prado\\desktop\\projetos\\aulas\\projeto\\projetofinal\\lib\\site-packages (from -r requirements.txt (line 43)) (1.16.0)\n",
      "Requirement already satisfied: stack-data==0.6.3 in c:\\users\\letícia prado\\desktop\\projetos\\aulas\\projeto\\projetofinal\\lib\\site-packages (from -r requirements.txt (line 44)) (0.6.3)\n",
      "Requirement already satisfied: tornado==6.4 in c:\\users\\letícia prado\\desktop\\projetos\\aulas\\projeto\\projetofinal\\lib\\site-packages (from -r requirements.txt (line 45)) (6.4)\n",
      "Requirement already satisfied: traitlets==5.14.1 in c:\\users\\letícia prado\\desktop\\projetos\\aulas\\projeto\\projetofinal\\lib\\site-packages (from -r requirements.txt (line 46)) (5.14.1)\n",
      "Requirement already satisfied: tzdata==2024.1 in c:\\users\\letícia prado\\desktop\\projetos\\aulas\\projeto\\projetofinal\\lib\\site-packages (from -r requirements.txt (line 47)) (2024.1)\n",
      "Requirement already satisfied: urllib3==2.2.1 in c:\\users\\letícia prado\\desktop\\projetos\\aulas\\projeto\\projetofinal\\lib\\site-packages (from -r requirements.txt (line 48)) (2.2.1)\n",
      "Requirement already satisfied: wcwidth==0.2.13 in c:\\users\\letícia prado\\desktop\\projetos\\aulas\\projeto\\projetofinal\\lib\\site-packages (from -r requirements.txt (line 49)) (0.2.13)\n",
      "Note: you may need to restart the kernel to use updated packages.\n"
     ]
    }
   ],
   "source": [
    "pip install -r requirements.txt\n"
   ]
  }
 ],
 "metadata": {
  "kernelspec": {
   "display_name": "projetofinal",
   "language": "python",
   "name": "python3"
  },
  "language_info": {
   "codemirror_mode": {
    "name": "ipython",
    "version": 3
   },
   "file_extension": ".py",
   "mimetype": "text/x-python",
   "name": "python",
   "nbconvert_exporter": "python",
   "pygments_lexer": "ipython3",
   "version": "3.11.9"
  }
 },
 "nbformat": 4,
 "nbformat_minor": 2
}
